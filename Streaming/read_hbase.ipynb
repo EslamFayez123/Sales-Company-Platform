{
 "cells": [
  {
   "cell_type": "code",
   "execution_count": 1,
   "id": "3e35a774-02ec-4861-bb3c-d9f63e6a6d53",
   "metadata": {},
   "outputs": [],
   "source": [
    "import happybase\n",
    "from pyspark.sql import SparkSession\n",
    "from pyspark.sql.types import StructType, StructField, StringType, DoubleType\n"
   ]
  },
  {
   "cell_type": "code",
   "execution_count": 2,
   "id": "02156117-cca3-4c4f-aaa1-fcedfd2f6264",
   "metadata": {},
   "outputs": [],
   "source": [
    "spark = SparkSession.builder \\\n",
    "    .appName(\"HBase to Spark SQL\") \\\n",
    "    .getOrCreate()\n"
   ]
  },
  {
   "cell_type": "code",
   "execution_count": 3,
   "id": "6f168847-554d-482a-8120-0a4056f7e82d",
   "metadata": {},
   "outputs": [],
   "source": [
    "schema = StructType([\n",
    "    StructField(\"productId\", StringType(), True),\n",
    "    StructField(\"totalAmount\", DoubleType(), True)\n",
    "])"
   ]
  },
  {
   "cell_type": "code",
   "execution_count": 6,
   "id": "a54ba276-eda7-489c-9ec6-e03773fd010f",
   "metadata": {},
   "outputs": [],
   "source": [
    "def fetch_hbase_data(thrift_server, port, namespace, table_name):\n",
    "    connection = happybase.Connection(thrift_server, port=port)\n",
    "    table = connection.table(f\"{namespace}:{table_name}\")\n",
    "\n",
    "    rows = []\n",
    "    for key, data in table.scan():\n",
    "        productId = key.decode('utf-8')\n",
    "        totalAmount = float(data.get(b'transaction_data:totalAmount', 0))\n",
    "        rows.append((productId, totalAmount))\n",
    "\n",
    "    df = spark.createDataFrame(rows, schema)\n",
    "    return df"
   ]
  },
  {
   "cell_type": "code",
   "execution_count": 7,
   "id": "3e96c359-4516-470c-aed1-f286eae5f1f2",
   "metadata": {},
   "outputs": [],
   "source": [
    "thrift_server = \"hbase-thrift\"\n",
    "port = 9090\n",
    "namespace = \"streaming\"\n",
    "table_name = \"events\"\n",
    "df = fetch_hbase_data(thrift_server, port, namespace, table_name)\n"
   ]
  },
  {
   "cell_type": "code",
   "execution_count": 8,
   "id": "e657b9ed-7e0b-48c5-bae2-5914cf9f4e1e",
   "metadata": {},
   "outputs": [],
   "source": [
    "df.createOrReplaceTempView(\"streaming_data\")\n"
   ]
  },
  {
   "cell_type": "code",
   "execution_count": 9,
   "id": "b80a899c-d398-4fed-989a-e22644682700",
   "metadata": {},
   "outputs": [],
   "source": [
    "result_df = spark.sql(\"\"\"\n",
    "SELECT \n",
    "    productId, \n",
    "    SUM(totalAmount) as total_sales \n",
    "FROM \n",
    "    streaming_data \n",
    "GROUP BY \n",
    "    productId \n",
    "ORDER BY \n",
    "    total_sales DESC \n",
    "LIMIT 5\n",
    "\"\"\")\n"
   ]
  },
  {
   "cell_type": "code",
   "execution_count": 10,
   "id": "25095084-bdeb-4d78-89dd-bf9e213bc38d",
   "metadata": {},
   "outputs": [
    {
     "name": "stdout",
     "output_type": "stream",
     "text": [
      "+---------+-----------+\n",
      "|productId|total_sales|\n",
      "+---------+-----------+\n",
      "|    55839|     494.49|\n",
      "|    34219|     316.83|\n",
      "|    89559|     313.68|\n",
      "|    61172|     292.36|\n",
      "|    57502|      195.9|\n",
      "+---------+-----------+\n",
      "\n"
     ]
    }
   ],
   "source": [
    "result_df.show()\n"
   ]
  },
  {
   "cell_type": "code",
   "execution_count": null,
   "id": "6d65d354-a4eb-4244-93dd-cbaf6bc23d94",
   "metadata": {},
   "outputs": [],
   "source": []
  }
 ],
 "metadata": {
  "kernelspec": {
   "display_name": "Pyspark 2",
   "language": "python",
   "name": "pyspark2"
  },
  "language_info": {
   "codemirror_mode": {
    "name": "ipython",
    "version": 3
   },
   "file_extension": ".py",
   "mimetype": "text/x-python",
   "name": "python",
   "nbconvert_exporter": "python",
   "pygments_lexer": "ipython3",
   "version": "3.6.9"
  }
 },
 "nbformat": 4,
 "nbformat_minor": 5
}
